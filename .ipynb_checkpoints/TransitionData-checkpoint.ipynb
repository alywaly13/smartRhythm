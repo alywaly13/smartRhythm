{
 "cells": [
  {
   "cell_type": "code",
   "execution_count": null,
   "metadata": {
    "collapsed": true
   },
   "outputs": [],
   "source": [
    "class TransitionData(object):\n",
    "\n",
    "    def __init__(self, name, balance=0.0):\n",
    "        \"\"\"Divide a measure into 96, so that we have the following durations:\n",
    "        Quarter:24\n",
    "        Eight:12\n",
    "        Sixteenth:6\n",
    "        Thirtysecond:3\n",
    "        Triplet:8\n",
    "        Supports only the common time signatures\n",
    "        \"\"\"\n",
    "        self.bigdic = {\"44\":{0:{0:}}, \"34\":{0:{0:}}, \"24\":{0:{0:}}, \"38\":{0:{0:}}, \"68\":{0:{0:}}, \"22\":{0:{0:}}}\n",
    "\n",
    "    \"\"\"Durations is an array of note durations\n",
    "    Divisions is the number of divisions in the measure\n",
    "    \"\"\"\n",
    "    def processMeasure(durations, divisions):\n",
    "        \"\"\"Return the balance remaining after withdrawing *amount*\n",
    "        dollars.\"\"\"\n",
    "        if amount > self.balance:\n",
    "            raise RuntimeError('Amount greater than available balance.')\n",
    "        self.balance -= amount\n",
    "        return self.balance\n",
    "\n",
    "    def deposit(self, amount):\n",
    "        \"\"\"Return the balance remaining after depositing *amount*\n",
    "        dollars.\"\"\"\n",
    "        self.balance += amount\n",
    "        return self.balance"
   ]
  }
 ],
 "metadata": {
  "kernelspec": {
   "display_name": "Python 2",
   "language": "python",
   "name": "python2"
  },
  "language_info": {
   "codemirror_mode": {
    "name": "ipython",
    "version": 2
   },
   "file_extension": ".py",
   "mimetype": "text/x-python",
   "name": "python",
   "nbconvert_exporter": "python",
   "pygments_lexer": "ipython2",
   "version": "2.7.11"
  }
 },
 "nbformat": 4,
 "nbformat_minor": 0
}
